{
 "cells": [
  {
   "cell_type": "code",
   "execution_count": 28,
   "id": "8749f8d7",
   "metadata": {},
   "outputs": [],
   "source": [
    "import pandas as pd\n",
    "import numpy as np\n",
    "from sklearn.preprocessing import LabelEncoder\n",
    "from sklearn.ensemble import RandomForestRegressor\n",
    "from sklearn.model_selection import train_test_split\n",
    "from sklearn.metrics import mean_squared_error, r2_score\n",
    "import matplotlib.pyplot as plt\n",
    "import seaborn as sns"
   ]
  },
  {
   "cell_type": "code",
   "execution_count": 29,
   "id": "458bd9f2",
   "metadata": {},
   "outputs": [],
   "source": [
    "\n",
    "# Load the dataset\n",
    "df = pd.read_csv(r\"C:\\Users\\Minfy.DESKTOP-81ME0ME\\Downloads\\inventory_recommendations (1).csv\")"
   ]
  },
  {
   "cell_type": "code",
   "execution_count": 30,
   "id": "0d0ad594",
   "metadata": {},
   "outputs": [
    {
     "data": {
      "text/html": [
       "<div>\n",
       "<style scoped>\n",
       "    .dataframe tbody tr th:only-of-type {\n",
       "        vertical-align: middle;\n",
       "    }\n",
       "\n",
       "    .dataframe tbody tr th {\n",
       "        vertical-align: top;\n",
       "    }\n",
       "\n",
       "    .dataframe thead th {\n",
       "        text-align: right;\n",
       "    }\n",
       "</style>\n",
       "<table border=\"1\" class=\"dataframe\">\n",
       "  <thead>\n",
       "    <tr style=\"text-align: right;\">\n",
       "      <th></th>\n",
       "      <th>Location</th>\n",
       "      <th>Item</th>\n",
       "      <th>Current_Par_Level</th>\n",
       "      <th>Recommended_Par_Level</th>\n",
       "      <th>Reorder_Point</th>\n",
       "      <th>Safety_Stock</th>\n",
       "      <th>Avg_Daily_Demand</th>\n",
       "      <th>Par_Level_Change</th>\n",
       "      <th>Change_Percentage</th>\n",
       "    </tr>\n",
       "  </thead>\n",
       "  <tbody>\n",
       "    <tr>\n",
       "      <th>0</th>\n",
       "      <td>Smith's Bar</td>\n",
       "      <td>Captain Morgan</td>\n",
       "      <td>6199.41</td>\n",
       "      <td>935.245213</td>\n",
       "      <td>512.198300</td>\n",
       "      <td>391.327754</td>\n",
       "      <td>60.435273</td>\n",
       "      <td>-5264.164787</td>\n",
       "      <td>-84.913964</td>\n",
       "    </tr>\n",
       "    <tr>\n",
       "      <th>1</th>\n",
       "      <td>Smith's Bar</td>\n",
       "      <td>Yellow Tail</td>\n",
       "      <td>11862.52</td>\n",
       "      <td>1038.333864</td>\n",
       "      <td>568.705814</td>\n",
       "      <td>434.526371</td>\n",
       "      <td>67.089721</td>\n",
       "      <td>-10824.186140</td>\n",
       "      <td>-91.246937</td>\n",
       "    </tr>\n",
       "    <tr>\n",
       "      <th>2</th>\n",
       "      <td>Smith's Bar</td>\n",
       "      <td>Grey Goose</td>\n",
       "      <td>7942.75</td>\n",
       "      <td>1065.450430</td>\n",
       "      <td>585.201334</td>\n",
       "      <td>447.987307</td>\n",
       "      <td>68.607014</td>\n",
       "      <td>-6877.299570</td>\n",
       "      <td>-86.585875</td>\n",
       "    </tr>\n",
       "    <tr>\n",
       "      <th>3</th>\n",
       "      <td>Smith's Bar</td>\n",
       "      <td>Coors</td>\n",
       "      <td>4319.18</td>\n",
       "      <td>736.008972</td>\n",
       "      <td>435.121012</td>\n",
       "      <td>349.153023</td>\n",
       "      <td>42.983994</td>\n",
       "      <td>-3583.171028</td>\n",
       "      <td>-82.959521</td>\n",
       "    </tr>\n",
       "    <tr>\n",
       "      <th>4</th>\n",
       "      <td>Smith's Bar</td>\n",
       "      <td>Jim Beam</td>\n",
       "      <td>8565.93</td>\n",
       "      <td>1023.824726</td>\n",
       "      <td>552.004022</td>\n",
       "      <td>417.198106</td>\n",
       "      <td>67.402958</td>\n",
       "      <td>-7542.105274</td>\n",
       "      <td>-88.047711</td>\n",
       "    </tr>\n",
       "  </tbody>\n",
       "</table>\n",
       "</div>"
      ],
      "text/plain": [
       "      Location            Item  Current_Par_Level  Recommended_Par_Level  \\\n",
       "0  Smith's Bar  Captain Morgan            6199.41             935.245213   \n",
       "1  Smith's Bar     Yellow Tail           11862.52            1038.333864   \n",
       "2  Smith's Bar      Grey Goose            7942.75            1065.450430   \n",
       "3  Smith's Bar           Coors            4319.18             736.008972   \n",
       "4  Smith's Bar        Jim Beam            8565.93            1023.824726   \n",
       "\n",
       "   Reorder_Point  Safety_Stock  Avg_Daily_Demand  Par_Level_Change  \\\n",
       "0     512.198300    391.327754         60.435273      -5264.164787   \n",
       "1     568.705814    434.526371         67.089721     -10824.186140   \n",
       "2     585.201334    447.987307         68.607014      -6877.299570   \n",
       "3     435.121012    349.153023         42.983994      -3583.171028   \n",
       "4     552.004022    417.198106         67.402958      -7542.105274   \n",
       "\n",
       "   Change_Percentage  \n",
       "0         -84.913964  \n",
       "1         -91.246937  \n",
       "2         -86.585875  \n",
       "3         -82.959521  \n",
       "4         -88.047711  "
      ]
     },
     "execution_count": 30,
     "metadata": {},
     "output_type": "execute_result"
    }
   ],
   "source": [
    "df.head()"
   ]
  },
  {
   "cell_type": "code",
   "execution_count": 31,
   "id": "2e7c6890",
   "metadata": {},
   "outputs": [],
   "source": [
    "df_encoded = df.copy()\n",
    "le_location = LabelEncoder()\n",
    "le_item = LabelEncoder()\n",
    "\n",
    "df_encoded['Location'] = le_location.fit_transform(df['Location'])\n",
    "df_encoded['Item'] = le_item.fit_transform(df['Item'])"
   ]
  },
  {
   "cell_type": "code",
   "execution_count": 32,
   "id": "4b1ce0c1",
   "metadata": {},
   "outputs": [
    {
     "data": {
      "text/html": [
       "<div>\n",
       "<style scoped>\n",
       "    .dataframe tbody tr th:only-of-type {\n",
       "        vertical-align: middle;\n",
       "    }\n",
       "\n",
       "    .dataframe tbody tr th {\n",
       "        vertical-align: top;\n",
       "    }\n",
       "\n",
       "    .dataframe thead th {\n",
       "        text-align: right;\n",
       "    }\n",
       "</style>\n",
       "<table border=\"1\" class=\"dataframe\">\n",
       "  <thead>\n",
       "    <tr style=\"text-align: right;\">\n",
       "      <th></th>\n",
       "      <th>Location</th>\n",
       "      <th>Item</th>\n",
       "      <th>Current_Par_Level</th>\n",
       "      <th>Recommended_Par_Level</th>\n",
       "      <th>Reorder_Point</th>\n",
       "      <th>Safety_Stock</th>\n",
       "      <th>Avg_Daily_Demand</th>\n",
       "      <th>Par_Level_Change</th>\n",
       "      <th>Change_Percentage</th>\n",
       "    </tr>\n",
       "  </thead>\n",
       "  <tbody>\n",
       "    <tr>\n",
       "      <th>0</th>\n",
       "      <td>3</td>\n",
       "      <td>4</td>\n",
       "      <td>6199.41</td>\n",
       "      <td>935.245213</td>\n",
       "      <td>512.198300</td>\n",
       "      <td>391.327754</td>\n",
       "      <td>60.435273</td>\n",
       "      <td>-5264.164787</td>\n",
       "      <td>-84.913964</td>\n",
       "    </tr>\n",
       "    <tr>\n",
       "      <th>1</th>\n",
       "      <td>3</td>\n",
       "      <td>15</td>\n",
       "      <td>11862.52</td>\n",
       "      <td>1038.333864</td>\n",
       "      <td>568.705814</td>\n",
       "      <td>434.526371</td>\n",
       "      <td>67.089721</td>\n",
       "      <td>-10824.186140</td>\n",
       "      <td>-91.246937</td>\n",
       "    </tr>\n",
       "    <tr>\n",
       "      <th>2</th>\n",
       "      <td>3</td>\n",
       "      <td>6</td>\n",
       "      <td>7942.75</td>\n",
       "      <td>1065.450430</td>\n",
       "      <td>585.201334</td>\n",
       "      <td>447.987307</td>\n",
       "      <td>68.607014</td>\n",
       "      <td>-6877.299570</td>\n",
       "      <td>-86.585875</td>\n",
       "    </tr>\n",
       "    <tr>\n",
       "      <th>3</th>\n",
       "      <td>3</td>\n",
       "      <td>5</td>\n",
       "      <td>4319.18</td>\n",
       "      <td>736.008972</td>\n",
       "      <td>435.121012</td>\n",
       "      <td>349.153023</td>\n",
       "      <td>42.983994</td>\n",
       "      <td>-3583.171028</td>\n",
       "      <td>-82.959521</td>\n",
       "    </tr>\n",
       "    <tr>\n",
       "      <th>4</th>\n",
       "      <td>3</td>\n",
       "      <td>10</td>\n",
       "      <td>8565.93</td>\n",
       "      <td>1023.824726</td>\n",
       "      <td>552.004022</td>\n",
       "      <td>417.198106</td>\n",
       "      <td>67.402958</td>\n",
       "      <td>-7542.105274</td>\n",
       "      <td>-88.047711</td>\n",
       "    </tr>\n",
       "  </tbody>\n",
       "</table>\n",
       "</div>"
      ],
      "text/plain": [
       "   Location  Item  Current_Par_Level  Recommended_Par_Level  Reorder_Point  \\\n",
       "0         3     4            6199.41             935.245213     512.198300   \n",
       "1         3    15           11862.52            1038.333864     568.705814   \n",
       "2         3     6            7942.75            1065.450430     585.201334   \n",
       "3         3     5            4319.18             736.008972     435.121012   \n",
       "4         3    10            8565.93            1023.824726     552.004022   \n",
       "\n",
       "   Safety_Stock  Avg_Daily_Demand  Par_Level_Change  Change_Percentage  \n",
       "0    391.327754         60.435273      -5264.164787         -84.913964  \n",
       "1    434.526371         67.089721     -10824.186140         -91.246937  \n",
       "2    447.987307         68.607014      -6877.299570         -86.585875  \n",
       "3    349.153023         42.983994      -3583.171028         -82.959521  \n",
       "4    417.198106         67.402958      -7542.105274         -88.047711  "
      ]
     },
     "execution_count": 32,
     "metadata": {},
     "output_type": "execute_result"
    }
   ],
   "source": [
    "df_encoded.head()"
   ]
  },
  {
   "cell_type": "code",
   "execution_count": 33,
   "id": "580271f6",
   "metadata": {},
   "outputs": [],
   "source": [
    "features = ['Location', 'Item', 'Current_Par_Level', 'Reorder_Point', 'Safety_Stock']\n",
    "target = 'Avg_Daily_Demand'\n",
    "\n",
    "X = df_encoded[features]\n",
    "y = df_encoded[target]\n",
    "\n",
    "X_train, X_test, y_train, y_test = train_test_split(X, y, test_size=0.2, random_state=42)"
   ]
  },
  {
   "cell_type": "code",
   "execution_count": 34,
   "id": "e7a165a7",
   "metadata": {},
   "outputs": [],
   "source": [
    "model = RandomForestRegressor(n_estimators=100, random_state=42)\n",
    "model.fit(X_train, y_train)\n",
    "\n",
    "y_pred = model.predict(X_test)"
   ]
  },
  {
   "cell_type": "code",
   "execution_count": 35,
   "id": "eea8011f",
   "metadata": {},
   "outputs": [
    {
     "name": "stdout",
     "output_type": "stream",
     "text": [
      "Model RMSE: 2.98\n",
      "Model R²: 0.95\n"
     ]
    }
   ],
   "source": [
    "rmse = np.sqrt(mean_squared_error(y_test, y_pred))  # Fixed\n",
    "r2 = r2_score(y_test, y_pred)\n",
    "print(f\"Model RMSE: {rmse:.2f}\")\n",
    "print(f\"Model R²: {r2:.2f}\")"
   ]
  },
  {
   "cell_type": "code",
   "execution_count": 36,
   "id": "785ad228",
   "metadata": {},
   "outputs": [],
   "source": [
    "df_encoded['Predicted_Demand'] = model.predict(X)\n"
   ]
  },
  {
   "cell_type": "code",
   "execution_count": 37,
   "id": "15e85d77",
   "metadata": {},
   "outputs": [],
   "source": [
    "LEAD_TIME = 7  # days\n",
    "Z_SCORE = 1.65  # for ~95% service level\n",
    "SIMULATED_STD_DEV = df_encoded['Predicted_Demand'].std()\n",
    "\n",
    "df_encoded['Recommended_Par_Level_Model'] = (\n",
    "    df_encoded['Predicted_Demand'] * LEAD_TIME +\n",
    "    Z_SCORE * SIMULATED_STD_DEV * np.sqrt(LEAD_TIME)\n",
    ").round(2)"
   ]
  },
  {
   "cell_type": "code",
   "execution_count": 38,
   "id": "09f19baa",
   "metadata": {},
   "outputs": [],
   "source": [
    "np.random.seed(42)"
   ]
  },
  {
   "cell_type": "code",
   "execution_count": 39,
   "id": "e6482068",
   "metadata": {},
   "outputs": [],
   "source": [
    "def simulate_stock(item_row, days=30):\n",
    "    inventory = item_row['Recommended_Par_Level_Model']\n",
    "    reorder_point = item_row['Predicted_Demand'] * LEAD_TIME * 0.5\n",
    "    daily_sales = np.random.normal(loc=item_row['Predicted_Demand'], scale=SIMULATED_STD_DEV*0.1, size=days)\n",
    "    stockouts = 0\n",
    "    overstock_days = 0\n",
    "    history = []\n",
    "\n",
    "    for demand in daily_sales:\n",
    "        demand = max(demand, 0)\n",
    "        if inventory < demand:\n",
    "            stockouts += 1\n",
    "        inventory -= demand\n",
    "        if inventory < reorder_point:\n",
    "            inventory += item_row['Recommended_Par_Level_Model']  # simulate reorder\n",
    "        if inventory > item_row['Recommended_Par_Level_Model']:\n",
    "            overstock_days += 1\n",
    "        history.append(inventory)\n",
    "\n",
    "    return stockouts, overstock_days, history\n",
    "\n",
    "df_encoded[['Stockouts', 'OverstockDays', 'InventoryHistory']] = df_encoded.apply(\n",
    "    lambda row: pd.Series(simulate_stock(row)), axis=1\n",
    ")"
   ]
  },
  {
   "cell_type": "code",
   "execution_count": 40,
   "id": "6a2e5683",
   "metadata": {},
   "outputs": [
    {
     "name": "stdout",
     "output_type": "stream",
     "text": [
      " Evaluation Metrics:\n",
      "RMSE (Root Mean Squared Error): 2.98\n",
      "MAE  (Mean Absolute Error)     : 2.27\n",
      "R²   (R-squared Score)         : 95.49%\n"
     ]
    }
   ],
   "source": [
    "from sklearn.metrics import mean_absolute_error\n",
    "\n",
    "rmse = np.sqrt(mean_squared_error(y_test, y_pred))\n",
    "r2 = r2_score(y_test, y_pred)\n",
    "mae = mean_absolute_error(y_test, y_pred)\n",
    "\n",
    "print(f\" Evaluation Metrics:\")\n",
    "print(f\"RMSE (Root Mean Squared Error): {rmse:.2f}\")\n",
    "print(f\"MAE  (Mean Absolute Error)     : {mae:.2f}\")\n",
    "print(f\"R²   (R-squared Score)         : {r2:.2%}\")"
   ]
  },
  {
   "cell_type": "code",
   "execution_count": 41,
   "id": "7fe41c6d",
   "metadata": {},
   "outputs": [
    {
     "name": "stdout",
     "output_type": "stream",
     "text": [
      "\n",
      "Simulation Summary:\n",
      "    Location  Item  Predicted_Demand  Recommended_Par_Level_Model  Stockouts  \\\n",
      "0          3     4         59.016175                       463.18          0   \n",
      "1          3    15         66.665846                       516.73          0   \n",
      "2          3     6         71.160129                       548.19          0   \n",
      "3          3     5         42.701804                       348.98          0   \n",
      "4          3    10         65.781214                       510.53          0   \n",
      "..       ...   ...               ...                          ...        ...   \n",
      "91         5     9         42.408552                       346.92          0   \n",
      "92         5    13         58.812650                       461.75          0   \n",
      "93         5     3         44.334417                       360.41          0   \n",
      "94         5     7         38.493104                       319.52          0   \n",
      "95         5     2         58.566452                       460.03          0   \n",
      "\n",
      "    OverstockDays  \n",
      "0              12  \n",
      "1              13  \n",
      "2              14  \n",
      "3              12  \n",
      "4              13  \n",
      "..            ...  \n",
      "91             13  \n",
      "92             11  \n",
      "93             14  \n",
      "94             11  \n",
      "95             11  \n",
      "\n",
      "[96 rows x 6 columns]\n"
     ]
    }
   ],
   "source": [
    "print(\"\\nSimulation Summary:\")\n",
    "print(df_encoded[['Location', 'Item', 'Predicted_Demand', 'Recommended_Par_Level_Model', 'Stockouts', 'OverstockDays']])\n"
   ]
  },
  {
   "cell_type": "code",
   "execution_count": 42,
   "id": "4096d8ef",
   "metadata": {},
   "outputs": [
    {
     "data": {
      "image/png": "[encoded data removed]",
      "text/plain": [
       "<Figure size 640x480 with 1 Axes>"
      ]
     },
     "metadata": {},
     "output_type": "display_data"
    }
   ],
   "source": [
    "sample = df_encoded.iloc[0]\n",
    "plt.plot(sample['InventoryHistory'])\n",
    "plt.title(f\"Inventory Simulation: {le_item.inverse_transform([int(sample['Item'])])[0]}\")\n",
    "plt.xlabel(\"Days\")\n",
    "plt.ylabel(\"Inventory Level\")\n",
    "plt.axhline(sample['Recommended_Par_Level_Model'], color='green', linestyle='--', label='Par Level')\n",
    "plt.legend()\n",
    "plt.show()"
   ]
  },
  {
   "cell_type": "code",
   "execution_count": null,
   "id": "af77e995",
   "metadata": {},
   "outputs": [],
   "source": []
  },
  {
   "cell_type": "code",
   "execution_count": null,
   "id": "b9f7b6e8",
   "metadata": {},
   "outputs": [],
   "source": []
  }
 ],
 "metadata": {
  "kernelspec": {
   "display_name": "Python 3",
   "language": "python",
   "name": "python3"
  },
  "language_info": {
   "codemirror_mode": {
    "name": "ipython",
    "version": 3
   },
   "file_extension": ".py",
   "mimetype": "text/x-python",
   "name": "python",
   "nbconvert_exporter": "python",
   "pygments_lexer": "ipython3",
   "version": "3.13.3"
  }
 },
 "nbformat": 4,
 "nbformat_minor": 5
}
